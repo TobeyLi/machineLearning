{
 "cells": [
  {
   "cell_type": "markdown",
   "metadata": {
    "collapsed": true
   },
   "source": [
    "TF-IDF\n",
    "----\n",
    "使用TF-IDF，可以来反应词的权重问题。从而在特征提取的中，有更加符合我们要求的特征。"
   ]
  },
  {
   "cell_type": "code",
   "execution_count": 5,
   "metadata": {},
   "outputs": [],
   "source": [
    "# 方法1：使用sklearn来学习得到每个词的TF-IDF的值\n",
    "from sklearn.feature_extraction.text import TfidfTransformer\n",
    "from sklearn.feature_extraction.text import CountVectorizer\n",
    "import os\n",
    "import jieba"
   ]
  },
  {
   "cell_type": "code",
   "execution_count": 10,
   "metadata": {},
   "outputs": [
    {
     "data": {
      "text/plain": [
       "1"
      ]
     },
     "execution_count": 10,
     "metadata": {},
     "output_type": "execute_result"
    }
   ],
   "source": [
    "file_path=\"../data/nlp_test0.txt\"\n",
    "# 导入用户词典\n",
    "jieba.suggest_freq(\"沙瑞金\",True)\n",
    "jieba.suggest_freq(\"金山\",True)\n",
    "jieba.suggest_freq(\"李达康\",True)\n",
    "jieba.suggest_freq(\"易学习\",True)\n",
    "jieba.suggest_freq(\"王大路\",True)"
   ]
  },
  {
   "cell_type": "markdown",
   "metadata": {},
   "source": [
    "读取数据，分词\n",
    "--"
   ]
  },
  {
   "cell_type": "code",
   "execution_count": 24,
   "metadata": {},
   "outputs": [
    {
     "name": "stdout",
     "output_type": "stream",
     "text": [
      "['沙瑞金', '赞叹', '易学习', '的', '胸怀', '，', '是', '金山', '的', '百姓']\n"
     ]
    }
   ],
   "source": [
    "with open(file_path,'r',encoding='utf-8') as fp:\n",
    "    texts=fp.read()\n",
    "    texts_cut=list(jieba.cut(texts))\n",
    "    # 只取十个词进行分析\n",
    "    texts_cut=texts_cut[:10]\n",
    "    print(texts_cut)"
   ]
  },
  {
   "cell_type": "markdown",
   "metadata": {},
   "source": [
    "向量化与使用TF-IDF来生成权值\n",
    "---\n",
    "将我们得到的分词之后的内容进行向量化\n",
    "通过这个的处理过程，我们可以发现使用基于sklearn的方式，会自动的帮助我们去除停用词"
   ]
  },
  {
   "cell_type": "code",
   "execution_count": 31,
   "metadata": {},
   "outputs": [
    {
     "name": "stdout",
     "output_type": "stream",
     "text": [
      "  (0, 1)\t1.0\n",
      "  (1, 4)\t1.0\n",
      "  (2, 0)\t1.0\n",
      "  (4, 3)\t1.0\n",
      "  (7, 5)\t1.0\n",
      "  (9, 2)\t1.0\n"
     ]
    }
   ],
   "source": [
    "# 初始化\n",
    "vectorizer=CountVectorizer()\n",
    "transform=TfidfTransformer()\n",
    "\n",
    "tf_idf=transform.fit_transform(vectorizer.fit_transform(texts_cut))\n",
    "print(tf_idf)"
   ]
  },
  {
   "cell_type": "code",
   "execution_count": 32,
   "metadata": {},
   "outputs": [
    {
     "name": "stdout",
     "output_type": "stream",
     "text": [
      "-------这里输出第 0 类文本的词语tf-idf权重------\n",
      "易学习 0.0\n",
      "沙瑞金 1.0\n",
      "百姓 0.0\n",
      "胸怀 0.0\n",
      "赞叹 0.0\n",
      "金山 0.0\n",
      "-------这里输出第 1 类文本的词语tf-idf权重------\n",
      "易学习 0.0\n",
      "沙瑞金 0.0\n",
      "百姓 0.0\n",
      "胸怀 0.0\n",
      "赞叹 1.0\n",
      "金山 0.0\n",
      "-------这里输出第 2 类文本的词语tf-idf权重------\n",
      "易学习 1.0\n",
      "沙瑞金 0.0\n",
      "百姓 0.0\n",
      "胸怀 0.0\n",
      "赞叹 0.0\n",
      "金山 0.0\n",
      "-------这里输出第 3 类文本的词语tf-idf权重------\n",
      "易学习 0.0\n",
      "沙瑞金 0.0\n",
      "百姓 0.0\n",
      "胸怀 0.0\n",
      "赞叹 0.0\n",
      "金山 0.0\n",
      "-------这里输出第 4 类文本的词语tf-idf权重------\n",
      "易学习 0.0\n",
      "沙瑞金 0.0\n",
      "百姓 0.0\n",
      "胸怀 1.0\n",
      "赞叹 0.0\n",
      "金山 0.0\n",
      "-------这里输出第 5 类文本的词语tf-idf权重------\n",
      "易学习 0.0\n",
      "沙瑞金 0.0\n",
      "百姓 0.0\n",
      "胸怀 0.0\n",
      "赞叹 0.0\n",
      "金山 0.0\n",
      "-------这里输出第 6 类文本的词语tf-idf权重------\n",
      "易学习 0.0\n",
      "沙瑞金 0.0\n",
      "百姓 0.0\n",
      "胸怀 0.0\n",
      "赞叹 0.0\n",
      "金山 0.0\n",
      "-------这里输出第 7 类文本的词语tf-idf权重------\n",
      "易学习 0.0\n",
      "沙瑞金 0.0\n",
      "百姓 0.0\n",
      "胸怀 0.0\n",
      "赞叹 0.0\n",
      "金山 1.0\n",
      "-------这里输出第 8 类文本的词语tf-idf权重------\n",
      "易学习 0.0\n",
      "沙瑞金 0.0\n",
      "百姓 0.0\n",
      "胸怀 0.0\n",
      "赞叹 0.0\n",
      "金山 0.0\n",
      "-------这里输出第 9 类文本的词语tf-idf权重------\n",
      "易学习 0.0\n",
      "沙瑞金 0.0\n",
      "百姓 1.0\n",
      "胸怀 0.0\n",
      "赞叹 0.0\n",
      "金山 0.0\n"
     ]
    }
   ],
   "source": [
    "# 怎么将学到的内容与具体的词相联系起来，即完成一个可视化的工作。\n",
    "\n",
    "word=vectorizer.get_feature_names()#获取词袋模型中的所有词语\n",
    "weight=tf_idf.toarray()\n",
    "for i in range(len(weight)):\n",
    "    print(\"-------这里输出第\",i,\"类文本的词语tf-idf权重------\")\n",
    "    for j in range(len(word)):\n",
    "        print(word[j],weight[i][j])\n",
    "        "
   ]
  },
  {
   "cell_type": "code",
   "execution_count": 33,
   "metadata": {},
   "outputs": [
    {
     "name": "stdout",
     "output_type": "stream",
     "text": [
      "  (0, 1)\t1.0\n",
      "  (1, 4)\t1.0\n",
      "  (2, 0)\t1.0\n",
      "  (4, 3)\t1.0\n",
      "  (7, 5)\t1.0\n",
      "  (9, 2)\t1.0\n"
     ]
    }
   ],
   "source": [
    "# 或者是直接一步到位\n",
    "from sklearn.feature_extraction.text import TfidfVectorizer\n",
    "transformers=TfidfVectorizer()\n",
    "tfidf=transformers.fit_transform(texts_cut)\n",
    "print(tfidf)"
   ]
  },
  {
   "cell_type": "markdown",
   "metadata": {},
   "source": [
    "方法二：使用自定义的Python函数去计算TF-IDF\n",
    "----\n",
    "那么这个主要的难点就是我们计算每个词的TF以及计算IDF值。"
   ]
  },
  {
   "cell_type": "code",
   "execution_count": 40,
   "metadata": {},
   "outputs": [],
   "source": [
    "# 在这个实例中，我们使用英文的corpus作为训练语料\n",
    "from collections import Counter\n",
    "corpus = [\n",
    "    'this is the first document',\n",
    "    'this is the second second document',\n",
    "    'and the third one',\n",
    "    'is this the first document'\n",
    "]"
   ]
  },
  {
   "cell_type": "markdown",
   "metadata": {},
   "source": [
    "步骤1：对语料进行分词"
   ]
  },
  {
   "cell_type": "code",
   "execution_count": 41,
   "metadata": {},
   "outputs": [
    {
     "data": {
      "text/plain": [
       "[['this', 'is', 'the', 'first', 'document'],\n",
       " ['this', 'is', 'the', 'second', 'second', 'document'],\n",
       " ['and', 'the', 'third', 'one'],\n",
       " ['is', 'this', 'the', 'first', 'document']]"
      ]
     },
     "execution_count": 41,
     "metadata": {},
     "output_type": "execute_result"
    }
   ],
   "source": [
    "word_list=list()\n",
    "for i in range(len(corpus)):\n",
    "    word_list.append(corpus[i].split(\" \"))\n",
    "word_list"
   ]
  },
  {
   "cell_type": "markdown",
   "metadata": {},
   "source": [
    "步骤2：统计词频"
   ]
  },
  {
   "cell_type": "code",
   "execution_count": 45,
   "metadata": {},
   "outputs": [
    {
     "data": {
      "text/plain": [
       "[Counter({'this': 1, 'is': 1, 'the': 1, 'first': 1, 'document': 1}),\n",
       " Counter({'this': 1, 'is': 1, 'the': 1, 'second': 2, 'document': 1}),\n",
       " Counter({'and': 1, 'the': 1, 'third': 1, 'one': 1}),\n",
       " Counter({'is': 1, 'this': 1, 'the': 1, 'first': 1, 'document': 1})]"
      ]
     },
     "execution_count": 45,
     "metadata": {},
     "output_type": "execute_result"
    }
   ],
   "source": [
    "count_list=list()\n",
    "for i in range(len(word_list)):\n",
    "    count=Counter(word_list[i])\n",
    "    count_list.append(count)\n",
    "count_list"
   ]
  },
  {
   "cell_type": "markdown",
   "metadata": {},
   "source": [
    "步骤3：定义计算TF-IDF公式"
   ]
  },
  {
   "cell_type": "code",
   "execution_count": 1,
   "metadata": {},
   "outputs": [],
   "source": [
    "import math\n",
    "class CalculateTFIDF(object):\n",
    "    \n",
    "    def __init__(self) -> None:\n",
    "        super().__init__()\n",
    "\n",
    "    def __tf(self,word,count):\n",
    "        # count[word]可以得到每个单词的词频， sum(count.values())得到整个句子的单词总数\n",
    "        return count[word] / sum(count.values())\n",
    "    \n",
    "    # 统计的是含有该单词的句子数\n",
    "    def __n_containing(self,word, count_list):\n",
    "        return sum(1 for count in count_list if word in count)\n",
    " \n",
    "    # len(count_list)是指句子的总数，n_containing(word, count_list)是指含有该单词的句子的总数，加1是为了防止分母为0\n",
    "    def __idf(self,word, count_list):\n",
    "        return math.log(len(count_list) / (1 + n_containing(word, count_list)))\n",
    "\n",
    "    # 将tf和idf相乘\n",
    "    def tfidf(self,word, count, count_list):\n",
    "        return self.__tf(word, count) * self.__idf(word, count_list)"
   ]
  },
  {
   "cell_type": "code",
   "execution_count": null,
   "metadata": {},
   "outputs": [],
   "source": []
  }
 ],
 "metadata": {
  "kernelspec": {
   "display_name": "Python 3",
   "language": "python",
   "name": "python3"
  },
  "language_info": {
   "codemirror_mode": {
    "name": "ipython",
    "version": 3
   },
   "file_extension": ".py",
   "mimetype": "text/x-python",
   "name": "python",
   "nbconvert_exporter": "python",
   "pygments_lexer": "ipython3",
   "version": "3.6.7"
  }
 },
 "nbformat": 4,
 "nbformat_minor": 1
}
