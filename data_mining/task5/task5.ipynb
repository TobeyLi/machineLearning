{
 "cells": [
  {
   "cell_type": "markdown",
   "metadata": {
    "collapsed": true,
    "pycharm": {
     "is_executing": false
    }
   },
   "source": [
    "使用五折交叉验证法，GridSearch来寻找模型的最优参数\n",
    "---"
   ]
  },
  {
   "cell_type": "code",
   "execution_count": 2,
   "metadata": {
    "pycharm": {
     "is_executing": false
    }
   },
   "outputs": [],
   "source": [
    "import pandas as pd\n",
    "import warnings\n",
    "warnings.filterwarnings('ignore')"
   ]
  },
  {
   "cell_type": "code",
   "execution_count": 3,
   "metadata": {},
   "outputs": [],
   "source": [
    "# 读入数据\n",
    "train=pd.read_csv('../data/train_data.csv')\n",
    "test=pd.read_csv('../data/test_data.csv')"
   ]
  },
  {
   "cell_type": "code",
   "execution_count": 4,
   "metadata": {},
   "outputs": [],
   "source": [
    "# 训练集与测试集的导入\n",
    "train_y=train['status']\n",
    "train_X=train.drop(['status'],axis=1)\n",
    "\n",
    "test_y=test['status']\n",
    "test_X=test.drop(['status'],axis=1)"
   ]
  },
  {
   "cell_type": "code",
   "execution_count": 5,
   "metadata": {},
   "outputs": [],
   "source": [
    "# 数据归一化操作\n",
    "from sklearn.preprocessing import minmax_scale\n",
    "train_X=minmax_scale(train_X)\n",
    "test_X=minmax_scale(test_X)"
   ]
  },
  {
   "cell_type": "markdown",
   "metadata": {},
   "source": [
    "## 使用模型来拟合数据并且查看准确率"
   ]
  },
  {
   "cell_type": "code",
   "execution_count": 6,
   "metadata": {},
   "outputs": [],
   "source": [
    "from sklearn.linear_model import LogisticRegression\n",
    "from sklearn.svm import SVC\n",
    "from sklearn.tree import DecisionTreeClassifier\n",
    "from sklearn.ensemble import GradientBoostingClassifier,RandomForestClassifier\n",
    "from sklearn.neighbors import KNeighborsClassifier\n",
    "from sklearn.metrics import *\n",
    "from sklearn.model_selection import cross_val_score"
   ]
  },
  {
   "cell_type": "code",
   "execution_count": 9,
   "metadata": {},
   "outputs": [
    {
     "name": "stdout",
     "output_type": "stream",
     "text": [
      "The best parameters are {'C': 1} with a score of 0.80\n"
     ]
    }
   ],
   "source": [
    "# 使用逻辑回归运行五折交叉验证，网格搜索来获取最优参数\n",
    "from sklearn.model_selection import GridSearchCV\n",
    "\n",
    "# C为正则化系数λ的倒数，必须为正数，默认为1，值越小，代表正则化越强。一般来说，只需要调节这个参数\n",
    "grid_lr = GridSearchCV(LogisticRegression(), param_grid={\"C\":[0.01,0.05,0.1,0.2,0.5, 1, 10]}, cv=5)\n",
    "grid_lr.fit(train_X,train_y)\n",
    "print(\"The best parameters are %s with a score of %0.2f\"\n",
    "      % (grid_lr.best_params_, grid_lr.best_score_))"
   ]
  },
  {
   "cell_type": "code",
   "execution_count": 11,
   "metadata": {},
   "outputs": [
    {
     "name": "stdout",
     "output_type": "stream",
     "text": [
      "The best parameters are {'C': 10, 'gamma': 0.1} with a score of 0.79\n"
     ]
    }
   ],
   "source": [
    "# 使用SVM运行五折交叉验证，网格搜索来获取最优参数\n",
    "\n",
    "# 惩罚系数C,核函数参数gamma,可以调节这两个餐素\n",
    "grid_svm=GridSearchCV(SVC(probability=True),param_grid={\"C\":[0.1,0.5, 1, 10,20], \"gamma\": [1, 0.5,0.1, 0.01]})\n",
    "grid_svm.fit(train_X,train_y)\n",
    "print(\"The best parameters are %s with a score of %0.2f\"\n",
    "      % (grid_svm.best_params_, grid_svm.best_score_))"
   ]
  },
  {
   "cell_type": "code",
   "execution_count": 13,
   "metadata": {},
   "outputs": [
    {
     "name": "stdout",
     "output_type": "stream",
     "text": [
      "The best parameters are {'max_depth': 4} with a score of 0.78\n"
     ]
    }
   ],
   "source": [
    "# 使用决策树运行五折交叉验证，网格搜索来获取最优参数\n",
    "\n",
    "# 决策树的模型一般这是需要调节最大深度即可\n",
    "grid_dt=GridSearchCV(DecisionTreeClassifier(),param_grid={\"max_depth\":[i for i in range(1,10)]},cv=5)\n",
    "grid_dt.fit(train_X,train_y)\n",
    "print(\"The best parameters are %s with a score of %0.2f\"\n",
    "      % (grid_dt.best_params_, grid_dt.best_score_))"
   ]
  },
  {
   "cell_type": "code",
   "execution_count": 19,
   "metadata": {},
   "outputs": [
    {
     "data": {
      "text/plain": [
       "({'learning_rate': 0.05, 'n_estimators': 80}, 0.7947963783367844)"
      ]
     },
     "execution_count": 19,
     "metadata": {},
     "output_type": "execute_result"
    }
   ],
   "source": [
    "# GBDT进行调参，这个过程可以分为如下进行\n",
    "\n",
    "# 1。先对步长和迭代次数进行调参\n",
    "param_test1 = {'n_estimators':range(20,81,10),'learning_rate':[0.05,0.1,0.2,0.5]}\n",
    "grid_gbdt = GridSearchCV(estimator = GradientBoostingClassifier(min_samples_split=300,\n",
    "                                  min_samples_leaf=20,max_depth=8,max_features='sqrt', subsample=0.8,random_state=10), \n",
    "                       param_grid = param_test1, scoring='roc_auc',iid=False,cv=5)\n",
    "grid_gbdt.fit(train_X,train_y)\n",
    "grid_gbdt.best_params_, grid_gbdt.best_score_"
   ]
  },
  {
   "cell_type": "code",
   "execution_count": 18,
   "metadata": {},
   "outputs": [
    {
     "data": {
      "text/plain": [
       "({'max_depth': 13, 'min_samples_split': 300}, 0.7981856750464383)"
      ]
     },
     "execution_count": 18,
     "metadata": {},
     "output_type": "execute_result"
    }
   ],
   "source": [
    "# 2.对其弱分类器决策树进行调参\n",
    "param_test2 = {'max_depth':range(3,14,2), 'min_samples_split':range(100,801,200)}\n",
    "gsearch2 = GridSearchCV(estimator = GradientBoostingClassifier(learning_rate=0.05, n_estimators=80, min_samples_leaf=20, \n",
    "      max_features='sqrt', subsample=0.8, random_state=10), \n",
    "   param_grid = param_test2, scoring='roc_auc',iid=False, cv=5)\n",
    "gsearch2.fit(train_X,train_y)\n",
    "gsearch2.best_params_, gsearch2.best_score_"
   ]
  },
  {
   "cell_type": "code",
   "execution_count": 20,
   "metadata": {},
   "outputs": [
    {
     "data": {
      "text/plain": [
       "({'min_samples_leaf': 60, 'min_samples_split': 800}, 0.7877742460823469)"
      ]
     },
     "execution_count": 20,
     "metadata": {},
     "output_type": "execute_result"
    }
   ],
   "source": [
    "# 3.对内部节点再划分所需最小样本数min_samples_split和叶子节点最少样本数min_samples_leaf一起调参。\n",
    "param_test3 = {'min_samples_split':range(800,1900,200), 'min_samples_leaf':range(60,101,10)}\n",
    "gsearch3 = GridSearchCV(estimator = GradientBoostingClassifier(learning_rate=0.05, n_estimators=80,max_depth=13,\n",
    "                                     max_features='sqrt', subsample=0.8, random_state=10), \n",
    "                       param_grid = param_test3, scoring='roc_auc',iid=False, cv=5)\n",
    "gsearch3.fit(train_X,train_y)\n",
    "gsearch3.best_params_, gsearch3.best_score_"
   ]
  },
  {
   "cell_type": "code",
   "execution_count": 23,
   "metadata": {},
   "outputs": [
    {
     "data": {
      "text/plain": [
       "({'n_estimators': 60}, 0.7890529667962056)"
      ]
     },
     "execution_count": 23,
     "metadata": {},
     "output_type": "execute_result"
    }
   ],
   "source": [
    "# 对于RF，也可以按照上面的流程进行调参\n",
    "# 1。先对步长和迭代次数进行调参\n",
    "param_test1 = {'n_estimators':range(10,71,10)}\n",
    "gsearch1 = GridSearchCV(estimator = RandomForestClassifier(min_samples_split=100,\n",
    "                                  min_samples_leaf=20,max_depth=8,max_features='sqrt' ,random_state=10), \n",
    "                       param_grid = param_test1, scoring='roc_auc',cv=5)\n",
    "gsearch1.fit(train_X,train_y)\n",
    "gsearch1.best_params_, gsearch1.best_score_"
   ]
  },
  {
   "cell_type": "code",
   "execution_count": 24,
   "metadata": {},
   "outputs": [
    {
     "data": {
      "text/plain": [
       "({'max_depth': 13, 'min_samples_split': 70}, 0.7900313074352703)"
      ]
     },
     "execution_count": 24,
     "metadata": {},
     "output_type": "execute_result"
    }
   ],
   "source": [
    "# 2.对其弱分类器决策树进行调参\n",
    "param_test2 = {'max_depth':range(3,14,2), 'min_samples_split':range(50,201,20)}\n",
    "gsearch2 = GridSearchCV(estimator = RandomForestClassifier(n_estimators= 60, \n",
    "                                  min_samples_leaf=20,max_features='sqrt' ,oob_score=True, random_state=10),\n",
    "   param_grid = param_test2, scoring='roc_auc',iid=False, cv=5)\n",
    "gsearch2.fit(train_X,train_y)\n",
    "gsearch2.best_params_, gsearch2.best_score_"
   ]
  },
  {
   "cell_type": "code",
   "execution_count": 26,
   "metadata": {},
   "outputs": [
    {
     "data": {
      "text/plain": [
       "({'min_samples_leaf': 10, 'min_samples_split': 80}, 0.7891455636034637)"
      ]
     },
     "execution_count": 26,
     "metadata": {},
     "output_type": "execute_result"
    }
   ],
   "source": [
    "# 3.对内部节点再划分所需最小样本数min_samples_split和叶子节点最少样本数min_samples_leaf一起调参。\n",
    "param_test3 = {'min_samples_split':range(80,150,20), 'min_samples_leaf':range(10,60,10)}\n",
    "gsearch3 = GridSearchCV(estimator = RandomForestClassifier(n_estimators= 70, max_depth=13,\n",
    "                                  max_features='sqrt' ,oob_score=True, random_state=10),\n",
    "   param_grid = param_test3, scoring='roc_auc',iid=False, cv=5)\n",
    "gsearch3.fit(train_X,train_y)\n",
    "gsearch3.best_params_, gsearch3.best_score_"
   ]
  },
  {
   "cell_type": "code",
   "execution_count": 28,
   "metadata": {},
   "outputs": [
    {
     "data": {
      "text/plain": [
       "({'leaf_size': 10, 'n_neighbors': 19}, 0.7645348837209303)"
      ]
     },
     "execution_count": 28,
     "metadata": {},
     "output_type": "execute_result"
    }
   ],
   "source": [
    "# KNN,主要是k值的选择，以及停止建子树的叶子节点阈值leaf_size的参数的选择\n",
    "params={'n_neighbors':[i for i in range(1,20,2)],'leaf_size':[i for i in range(10,100,10)]}\n",
    "gsearch4 = GridSearchCV(estimator = KNeighborsClassifier(),param_grid = params,cv=5)\n",
    "gsearch4.fit(train_X,train_y)\n",
    "gsearch4.best_params_, gsearch4.best_score_\n"
   ]
  },
  {
   "cell_type": "code",
   "execution_count": 29,
   "metadata": {},
   "outputs": [
    {
     "data": {
      "text/plain": [
       "KNeighborsClassifier(algorithm='auto', leaf_size=10, metric='minkowski',\n",
       "                     metric_params=None, n_jobs=None, n_neighbors=19, p=2,\n",
       "                     weights='uniform')"
      ]
     },
     "execution_count": 29,
     "metadata": {},
     "output_type": "execute_result"
    }
   ],
   "source": [
    "# 使用上面使用的最优的参数进行建模\n",
    "#  LogisticRegression\n",
    "lr=LogisticRegression(C=1)\n",
    "lr.fit(train_X,train_y)\n",
    "\n",
    "# SVM\n",
    "svm=SVC(C=10,gamma=0.1,probability=True)\n",
    "svm.fit(train_X,train_y)\n",
    "\n",
    "# DecisionTree\n",
    "dt=DecisionTreeClassifier(max_depth=4)\n",
    "dt.fit(train_X,train_y)\n",
    "\n",
    "# RF\n",
    "rf=RandomForestClassifier(n_estimators=60,max_depth=13,min_samples_split=80,min_samples_leaf=10)\n",
    "rf.fit(train_X,train_y)\n",
    "\n",
    "# GBDT\n",
    "gbdt=GradientBoostingClassifier(learning_rate=0.01,n_estimators=80,max_depth=13,min_samples_split=300,min_samples_leaf=60)\n",
    "gbdt.fit(train_X,train_y)\n",
    "\n",
    "# KNN\n",
    "knn=KNeighborsClassifier(n_neighbors=19,leaf_size=10)\n",
    "knn.fit(train_X,train_y)"
   ]
  },
  {
   "cell_type": "code",
   "execution_count": 30,
   "metadata": {},
   "outputs": [],
   "source": [
    "# 当存在多个模型的时候，我们可以一起输出准确率，尝试使用列表的形式\n",
    "names=[\"LR\",\"SVM\",\"DecisionTree\",\"RF\",\"KNN\",\"GBDT\"]\n",
    "models=[lr,svm,dt,rf,knn,gbdt]"
   ]
  },
  {
   "cell_type": "code",
   "execution_count": 31,
   "metadata": {},
   "outputs": [
    {
     "name": "stdout",
     "output_type": "stream",
     "text": [
      "LR 训练集： accuracy:1.0,precision:0.748, recall:0.291, f1:0.419, auc:0.801\n",
      "LR 测试集： accuracy:1.0,precision:0.573, recall:0.536, f1:0.554, auc:0.798\n",
      "\n",
      "\n",
      "SVM 训练集： accuracy:1.0,precision:0.845, recall:0.299, f1:0.441, auc:0.851\n",
      "SVM 测试集： accuracy:1.0,precision:0.569, recall:0.559, f1:0.564, auc:0.795\n",
      "\n",
      "\n",
      "DecisionTree 训练集： accuracy:1.0,precision:0.727, recall:0.353, f1:0.475, auc:0.778\n",
      "DecisionTree 测试集： accuracy:1.0,precision:0.6, recall:0.443, f1:0.51, auc:0.739\n",
      "\n",
      "\n",
      "RF 训练集： accuracy:1.0,precision:0.854, recall:0.313, f1:0.458, auc:0.896\n",
      "RF 测试集： accuracy:1.0,precision:0.701, recall:0.278, f1:0.398, auc:0.789\n",
      "\n",
      "\n",
      "KNN 训练集： accuracy:1.0,precision:0.745, recall:0.141, f1:0.237, auc:0.767\n",
      "KNN 测试集： accuracy:1.0,precision:0.626, recall:0.165, f1:0.261, auc:0.716\n",
      "\n",
      "\n",
      "GBDT 训练集： accuracy:1.0,precision:0.917, recall:0.086, f1:0.157, auc:0.862\n",
      "GBDT 测试集： accuracy:1.0,precision:0.878, recall:0.104, f1:0.187, auc:0.779\n",
      "\n",
      "\n"
     ]
    },
    {
     "data": {
      "text/html": [
       "<div>\n",
       "<style scoped>\n",
       "    .dataframe tbody tr th:only-of-type {\n",
       "        vertical-align: middle;\n",
       "    }\n",
       "\n",
       "    .dataframe tbody tr th {\n",
       "        vertical-align: top;\n",
       "    }\n",
       "\n",
       "    .dataframe thead th {\n",
       "        text-align: right;\n",
       "    }\n",
       "</style>\n",
       "<table border=\"1\" class=\"dataframe\">\n",
       "  <thead>\n",
       "    <tr style=\"text-align: right;\">\n",
       "      <th></th>\n",
       "      <th></th>\n",
       "      <th>Accuracy</th>\n",
       "      <th>Precision</th>\n",
       "      <th>Recall</th>\n",
       "      <th>F1-Score</th>\n",
       "      <th>AUC-Score</th>\n",
       "    </tr>\n",
       "  </thead>\n",
       "  <tbody>\n",
       "    <tr>\n",
       "      <th rowspan=\"2\" valign=\"top\">LR</th>\n",
       "      <th>train</th>\n",
       "      <td>1.0</td>\n",
       "      <td>0.748322</td>\n",
       "      <td>0.290743</td>\n",
       "      <td>0.418779</td>\n",
       "      <td>0.800847</td>\n",
       "    </tr>\n",
       "    <tr>\n",
       "      <th>test</th>\n",
       "      <td>1.0</td>\n",
       "      <td>0.572755</td>\n",
       "      <td>0.536232</td>\n",
       "      <td>0.553892</td>\n",
       "      <td>0.797769</td>\n",
       "    </tr>\n",
       "    <tr>\n",
       "      <th rowspan=\"2\" valign=\"top\">SVM</th>\n",
       "      <th>train</th>\n",
       "      <td>1.0</td>\n",
       "      <td>0.845018</td>\n",
       "      <td>0.298566</td>\n",
       "      <td>0.441233</td>\n",
       "      <td>0.850689</td>\n",
       "    </tr>\n",
       "    <tr>\n",
       "      <th>test</th>\n",
       "      <td>1.0</td>\n",
       "      <td>0.569322</td>\n",
       "      <td>0.559420</td>\n",
       "      <td>0.564327</td>\n",
       "      <td>0.795425</td>\n",
       "    </tr>\n",
       "    <tr>\n",
       "      <th rowspan=\"2\" valign=\"top\">DecisionTree</th>\n",
       "      <th>train</th>\n",
       "      <td>1.0</td>\n",
       "      <td>0.726542</td>\n",
       "      <td>0.353325</td>\n",
       "      <td>0.475439</td>\n",
       "      <td>0.777887</td>\n",
       "    </tr>\n",
       "    <tr>\n",
       "      <th>test</th>\n",
       "      <td>1.0</td>\n",
       "      <td>0.600000</td>\n",
       "      <td>0.443478</td>\n",
       "      <td>0.510000</td>\n",
       "      <td>0.739426</td>\n",
       "    </tr>\n",
       "    <tr>\n",
       "      <th rowspan=\"2\" valign=\"top\">RF</th>\n",
       "      <th>train</th>\n",
       "      <td>1.0</td>\n",
       "      <td>0.854093</td>\n",
       "      <td>0.312907</td>\n",
       "      <td>0.458015</td>\n",
       "      <td>0.896399</td>\n",
       "    </tr>\n",
       "    <tr>\n",
       "      <th>test</th>\n",
       "      <td>1.0</td>\n",
       "      <td>0.700730</td>\n",
       "      <td>0.278261</td>\n",
       "      <td>0.398340</td>\n",
       "      <td>0.789437</td>\n",
       "    </tr>\n",
       "    <tr>\n",
       "      <th rowspan=\"2\" valign=\"top\">KNN</th>\n",
       "      <th>train</th>\n",
       "      <td>1.0</td>\n",
       "      <td>0.744828</td>\n",
       "      <td>0.140808</td>\n",
       "      <td>0.236842</td>\n",
       "      <td>0.767217</td>\n",
       "    </tr>\n",
       "    <tr>\n",
       "      <th>test</th>\n",
       "      <td>1.0</td>\n",
       "      <td>0.626374</td>\n",
       "      <td>0.165217</td>\n",
       "      <td>0.261468</td>\n",
       "      <td>0.715873</td>\n",
       "    </tr>\n",
       "    <tr>\n",
       "      <th rowspan=\"2\" valign=\"top\">GBDT</th>\n",
       "      <th>train</th>\n",
       "      <td>1.0</td>\n",
       "      <td>0.916667</td>\n",
       "      <td>0.086050</td>\n",
       "      <td>0.157330</td>\n",
       "      <td>0.861643</td>\n",
       "    </tr>\n",
       "    <tr>\n",
       "      <th>test</th>\n",
       "      <td>1.0</td>\n",
       "      <td>0.878049</td>\n",
       "      <td>0.104348</td>\n",
       "      <td>0.186528</td>\n",
       "      <td>0.778762</td>\n",
       "    </tr>\n",
       "  </tbody>\n",
       "</table>\n",
       "</div>"
      ],
      "text/plain": [
       "                    Accuracy  Precision    Recall  F1-Score  AUC-Score\n",
       "LR           train       1.0   0.748322  0.290743  0.418779   0.800847\n",
       "             test        1.0   0.572755  0.536232  0.553892   0.797769\n",
       "SVM          train       1.0   0.845018  0.298566  0.441233   0.850689\n",
       "             test        1.0   0.569322  0.559420  0.564327   0.795425\n",
       "DecisionTree train       1.0   0.726542  0.353325  0.475439   0.777887\n",
       "             test        1.0   0.600000  0.443478  0.510000   0.739426\n",
       "RF           train       1.0   0.854093  0.312907  0.458015   0.896399\n",
       "             test        1.0   0.700730  0.278261  0.398340   0.789437\n",
       "KNN          train       1.0   0.744828  0.140808  0.236842   0.767217\n",
       "             test        1.0   0.626374  0.165217  0.261468   0.715873\n",
       "GBDT         train       1.0   0.916667  0.086050  0.157330   0.861643\n",
       "             test        1.0   0.878049  0.104348  0.186528   0.778762"
      ]
     },
     "execution_count": 31,
     "metadata": {},
     "output_type": "execute_result"
    }
   ],
   "source": [
    "import numpy as np\n",
    "df_list=[]\n",
    "for name,model in zip(names,models):\n",
    "    y_train_pred=model.predict(train_X)\n",
    "    y_test_pred=model.predict(test_X)\n",
    "    \n",
    "    # accuracy\n",
    "    train_accuracy=model.score(train_X,y_train_pred)\n",
    "    test_accuracy=model.score(test_X,y_test_pred)\n",
    "    \n",
    "    # precision\n",
    "    train_precision=precision_score(train_y,y_train_pred)\n",
    "    test_precision=precision_score(test_y,y_test_pred)\n",
    "    \n",
    "    # recall\n",
    "    train_recall=recall_score(train_y,y_train_pred)\n",
    "    test_recall=recall_score(test_y,y_test_pred)\n",
    "    \n",
    "    # f1\n",
    "    train_f1=f1_score(train_y,y_train_pred)\n",
    "    test_f1=f1_score(test_y,y_test_pred)\n",
    "    \n",
    "    # auc\n",
    "    y_train_pred=model.predict_proba(train_X)[:,1]\n",
    "    y_test_pred=model.predict_proba(test_X)[:,1]\n",
    "    \n",
    "    train_auc=roc_auc_score(train_y,y_train_pred)\n",
    "    test_auc=roc_auc_score(test_y,y_test_pred)\n",
    "    \n",
    "    print('{} 训练集： accuracy:{:.3},precision:{:.3}, recall:{:.3}, f1:{:.3}, auc:{:.3}'.format(name,train_accuracy,train_precision,train_recall,train_f1,train_auc))\n",
    "    print('{} 测试集： accuracy:{:.3},precision:{:.3}, recall:{:.3}, f1:{:.3}, auc:{:.3}'.format(name,test_accuracy,test_precision,test_recall,test_f1,test_auc))\n",
    "    print('\\n')\n",
    "    df = pd.DataFrame(np.array([train_accuracy,train_precision,train_recall,train_f1,train_auc,test_accuracy,test_precision,test_recall,test_f1,test_auc]).reshape(2,-1),\n",
    "                  index = ['train','test'],\n",
    "                  columns = ['Accuracy','Precision','Recall','F1-Score','AUC-Score'])\n",
    "    df_list.append(df)\n",
    "pd.concat(df_list,axis=0,keys=names)"
   ]
  }
 ],
 "metadata": {
  "kernelspec": {
   "display_name": "Python 3",
   "language": "python",
   "name": "python3"
  },
  "language_info": {
   "codemirror_mode": {
    "name": "ipython",
    "version": 3
   },
   "file_extension": ".py",
   "mimetype": "text/x-python",
   "name": "python",
   "nbconvert_exporter": "python",
   "pygments_lexer": "ipython3",
   "version": "3.7.4"
  }
 },
 "nbformat": 4,
 "nbformat_minor": 1
}
