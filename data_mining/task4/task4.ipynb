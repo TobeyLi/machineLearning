{
 "cells": [
  {
   "cell_type": "markdown",
   "metadata": {
    "collapsed": true,
    "pycharm": {
     "is_executing": false
    }
   },
   "source": [
    "使用评价指标来画图，进行学习指标的学习\n",
    "---"
   ]
  },
  {
   "cell_type": "code",
   "execution_count": 4,
   "metadata": {},
   "outputs": [],
   "source": [
    "import pandas as pd\n",
    "import warnings\n",
    "warnings.filterwarnings('ignore')"
   ]
  },
  {
   "cell_type": "code",
   "execution_count": 2,
   "metadata": {},
   "outputs": [],
   "source": [
    "# 读入数据\n",
    "train=pd.read_csv('../data/train_data.csv')\n",
    "test=pd.read_csv('../data/test_data.csv')"
   ]
  },
  {
   "cell_type": "code",
   "execution_count": 3,
   "metadata": {},
   "outputs": [],
   "source": [
    "# 训练集与测试集的导入\n",
    "train_y=train['status']\n",
    "train_X=train.drop(['status'],axis=1)\n",
    "\n",
    "test_y=test['status']\n",
    "test_X=test.drop(['status'],axis=1)"
   ]
  },
  {
   "cell_type": "code",
   "execution_count": 5,
   "metadata": {},
   "outputs": [],
   "source": [
    "# 数据归一化操作\n",
    "from sklearn.preprocessing import minmax_scale\n",
    "train_X=minmax_scale(train_X)\n",
    "test_X=minmax_scale(test_X)"
   ]
  },
  {
   "cell_type": "markdown",
   "metadata": {},
   "source": [
    "## 使用模型来拟合数据并且查看准确率"
   ]
  },
  {
   "cell_type": "code",
   "execution_count": 6,
   "metadata": {},
   "outputs": [],
   "source": [
    "from sklearn.linear_model import LogisticRegression\n",
    "from sklearn.svm import SVC\n",
    "from sklearn.tree import DecisionTreeClassifier\n",
    "from sklearn.ensemble import GradientBoostingClassifier,RandomForestClassifier\n",
    "from sklearn.neighbors import KNeighborsClassifier\n",
    "from sklearn.metrics import *\n",
    "from sklearn.model_selection import cross_val_score"
   ]
  },
  {
   "cell_type": "code",
   "execution_count": 16,
   "metadata": {},
   "outputs": [
    {
     "data": {
      "text/plain": [
       "KNeighborsClassifier(algorithm='auto', leaf_size=30, metric='minkowski',\n",
       "                     metric_params=None, n_jobs=None, n_neighbors=5, p=2,\n",
       "                     weights='uniform')"
      ]
     },
     "execution_count": 16,
     "metadata": {},
     "output_type": "execute_result"
    }
   ],
   "source": [
    "#  LogisticRegression\n",
    "lr=LogisticRegression()\n",
    "lr.fit(train_X,train_y)\n",
    "\n",
    "# SVM\n",
    "svm=SVC(probability=True)\n",
    "svm.fit(train_X,train_y)\n",
    "\n",
    "# DecisionTree\n",
    "dt=DecisionTreeClassifier()\n",
    "dt.fit(train_X,train_y)\n",
    "\n",
    "# RF\n",
    "rf=RandomForestClassifier()\n",
    "rf.fit(train_X,train_y)\n",
    "\n",
    "# GBDT\n",
    "gbdt=GradientBoostingClassifier()\n",
    "gbdt.fit(train_X,train_y)\n",
    "\n",
    "# KNN\n",
    "knn=KNeighborsClassifier()\n",
    "knn.fit(train_X,train_y)\n"
   ]
  },
  {
   "cell_type": "code",
   "execution_count": 17,
   "metadata": {},
   "outputs": [],
   "source": [
    "# 当存在多个模型的时候，我们可以一起输出准确率，尝试使用列表的形式\n",
    "names=[\"LR\",\"SVM\",\"DecisionTree\",\"RF\",\"KNN\",\"GBDT\"]\n",
    "models=[lr,svm,dt,rf,knn,gbdt]"
   ]
  },
  {
   "cell_type": "code",
   "execution_count": 18,
   "metadata": {},
   "outputs": [
    {
     "name": "stdout",
     "output_type": "stream",
     "text": [
      "LR 训练集： accuracy:1.0,precision:0.748, recall:0.291, f1:0.419, auc:0.801\n",
      "LR 测试集： accuracy:1.0,precision:0.573, recall:0.536, f1:0.554, auc:0.798\n",
      "\n",
      "\n",
      "SVM 训练集： accuracy:1.0,precision:0.0, recall:0.0, f1:0.0, auc:0.807\n",
      "SVM 测试集： accuracy:1.0,precision:1.0, recall:0.0058, f1:0.0115, auc:0.799\n",
      "\n",
      "\n",
      "DecisionTree 训练集： accuracy:1.0,precision:1.0, recall:1.0, f1:1.0, auc:1.0\n",
      "DecisionTree 测试集： accuracy:1.0,precision:0.328, recall:0.539, f1:0.408, auc:0.575\n",
      "\n",
      "\n",
      "RF 训练集： accuracy:1.0,precision:0.997, recall:0.919, f1:0.957, auc:0.999\n",
      "RF 测试集： accuracy:1.0,precision:0.481, recall:0.4, f1:0.437, auc:0.705\n",
      "\n",
      "\n",
      "KNN 训练集： accuracy:1.0,precision:0.775, recall:0.39, f1:0.519, auc:0.852\n",
      "KNN 测试集： accuracy:1.0,precision:0.52, recall:0.27, f1:0.355, auc:0.645\n",
      "\n",
      "\n",
      "GBDT 训练集： accuracy:1.0,precision:0.855, recall:0.507, f1:0.637, auc:0.926\n",
      "GBDT 测试集： accuracy:1.0,precision:0.505, recall:0.623, f1:0.558, auc:0.774\n",
      "\n",
      "\n"
     ]
    },
    {
     "data": {
      "text/html": [
       "<div>\n",
       "<style scoped>\n",
       "    .dataframe tbody tr th:only-of-type {\n",
       "        vertical-align: middle;\n",
       "    }\n",
       "\n",
       "    .dataframe tbody tr th {\n",
       "        vertical-align: top;\n",
       "    }\n",
       "\n",
       "    .dataframe thead th {\n",
       "        text-align: right;\n",
       "    }\n",
       "</style>\n",
       "<table border=\"1\" class=\"dataframe\">\n",
       "  <thead>\n",
       "    <tr style=\"text-align: right;\">\n",
       "      <th></th>\n",
       "      <th></th>\n",
       "      <th>Accuracy</th>\n",
       "      <th>Precision</th>\n",
       "      <th>Recall</th>\n",
       "      <th>F1-Score</th>\n",
       "      <th>AUC-Score</th>\n",
       "    </tr>\n",
       "  </thead>\n",
       "  <tbody>\n",
       "    <tr>\n",
       "      <th rowspan=\"2\" valign=\"top\">LR</th>\n",
       "      <th>train</th>\n",
       "      <td>1.0</td>\n",
       "      <td>0.748322</td>\n",
       "      <td>0.290743</td>\n",
       "      <td>0.418779</td>\n",
       "      <td>0.800847</td>\n",
       "    </tr>\n",
       "    <tr>\n",
       "      <th>test</th>\n",
       "      <td>1.0</td>\n",
       "      <td>0.572755</td>\n",
       "      <td>0.536232</td>\n",
       "      <td>0.553892</td>\n",
       "      <td>0.797769</td>\n",
       "    </tr>\n",
       "    <tr>\n",
       "      <th rowspan=\"2\" valign=\"top\">SVM</th>\n",
       "      <th>train</th>\n",
       "      <td>1.0</td>\n",
       "      <td>0.000000</td>\n",
       "      <td>0.000000</td>\n",
       "      <td>0.000000</td>\n",
       "      <td>0.806760</td>\n",
       "    </tr>\n",
       "    <tr>\n",
       "      <th>test</th>\n",
       "      <td>1.0</td>\n",
       "      <td>1.000000</td>\n",
       "      <td>0.005797</td>\n",
       "      <td>0.011527</td>\n",
       "      <td>0.799397</td>\n",
       "    </tr>\n",
       "    <tr>\n",
       "      <th rowspan=\"2\" valign=\"top\">DecisionTree</th>\n",
       "      <th>train</th>\n",
       "      <td>1.0</td>\n",
       "      <td>1.000000</td>\n",
       "      <td>1.000000</td>\n",
       "      <td>1.000000</td>\n",
       "      <td>1.000000</td>\n",
       "    </tr>\n",
       "    <tr>\n",
       "      <th>test</th>\n",
       "      <td>1.0</td>\n",
       "      <td>0.328042</td>\n",
       "      <td>0.539130</td>\n",
       "      <td>0.407895</td>\n",
       "      <td>0.575376</td>\n",
       "    </tr>\n",
       "    <tr>\n",
       "      <th rowspan=\"2\" valign=\"top\">RF</th>\n",
       "      <th>train</th>\n",
       "      <td>1.0</td>\n",
       "      <td>0.997171</td>\n",
       "      <td>0.919166</td>\n",
       "      <td>0.956581</td>\n",
       "      <td>0.999268</td>\n",
       "    </tr>\n",
       "    <tr>\n",
       "      <th>test</th>\n",
       "      <td>1.0</td>\n",
       "      <td>0.480836</td>\n",
       "      <td>0.400000</td>\n",
       "      <td>0.436709</td>\n",
       "      <td>0.705348</td>\n",
       "    </tr>\n",
       "    <tr>\n",
       "      <th rowspan=\"2\" valign=\"top\">KNN</th>\n",
       "      <th>train</th>\n",
       "      <td>1.0</td>\n",
       "      <td>0.774611</td>\n",
       "      <td>0.389831</td>\n",
       "      <td>0.518647</td>\n",
       "      <td>0.852384</td>\n",
       "    </tr>\n",
       "    <tr>\n",
       "      <th>test</th>\n",
       "      <td>1.0</td>\n",
       "      <td>0.519553</td>\n",
       "      <td>0.269565</td>\n",
       "      <td>0.354962</td>\n",
       "      <td>0.645343</td>\n",
       "    </tr>\n",
       "    <tr>\n",
       "      <th rowspan=\"2\" valign=\"top\">GBDT</th>\n",
       "      <th>train</th>\n",
       "      <td>1.0</td>\n",
       "      <td>0.854945</td>\n",
       "      <td>0.507171</td>\n",
       "      <td>0.636661</td>\n",
       "      <td>0.925638</td>\n",
       "    </tr>\n",
       "    <tr>\n",
       "      <th>test</th>\n",
       "      <td>1.0</td>\n",
       "      <td>0.504695</td>\n",
       "      <td>0.623188</td>\n",
       "      <td>0.557717</td>\n",
       "      <td>0.774365</td>\n",
       "    </tr>\n",
       "  </tbody>\n",
       "</table>\n",
       "</div>"
      ],
      "text/plain": [
       "                    Accuracy  Precision    Recall  F1-Score  AUC-Score\n",
       "LR           train       1.0   0.748322  0.290743  0.418779   0.800847\n",
       "             test        1.0   0.572755  0.536232  0.553892   0.797769\n",
       "SVM          train       1.0   0.000000  0.000000  0.000000   0.806760\n",
       "             test        1.0   1.000000  0.005797  0.011527   0.799397\n",
       "DecisionTree train       1.0   1.000000  1.000000  1.000000   1.000000\n",
       "             test        1.0   0.328042  0.539130  0.407895   0.575376\n",
       "RF           train       1.0   0.997171  0.919166  0.956581   0.999268\n",
       "             test        1.0   0.480836  0.400000  0.436709   0.705348\n",
       "KNN          train       1.0   0.774611  0.389831  0.518647   0.852384\n",
       "             test        1.0   0.519553  0.269565  0.354962   0.645343\n",
       "GBDT         train       1.0   0.854945  0.507171  0.636661   0.925638\n",
       "             test        1.0   0.504695  0.623188  0.557717   0.774365"
      ]
     },
     "execution_count": 18,
     "metadata": {},
     "output_type": "execute_result"
    }
   ],
   "source": [
    "import numpy as np\n",
    "df_list=[]\n",
    "for name,model in zip(names,models):\n",
    "    y_train_pred=model.predict(train_X)\n",
    "    y_test_pred=model.predict(test_X)\n",
    "    \n",
    "    # accuracy\n",
    "    train_accuracy=model.score(train_X,y_train_pred)\n",
    "    test_accuracy=model.score(test_X,y_test_pred)\n",
    "    \n",
    "    # precision\n",
    "    train_precision=precision_score(train_y,y_train_pred)\n",
    "    test_precision=precision_score(test_y,y_test_pred)\n",
    "    \n",
    "    # recall\n",
    "    train_recall=recall_score(train_y,y_train_pred)\n",
    "    test_recall=recall_score(test_y,y_test_pred)\n",
    "    \n",
    "    # f1\n",
    "    train_f1=f1_score(train_y,y_train_pred)\n",
    "    test_f1=f1_score(test_y,y_test_pred)\n",
    "    \n",
    "    # auc\n",
    "    y_train_pred=model.predict_proba(train_X)[:,1]\n",
    "    y_test_pred=model.predict_proba(test_X)[:,1]\n",
    "    \n",
    "    train_auc=roc_auc_score(train_y,y_train_pred)\n",
    "    test_auc=roc_auc_score(test_y,y_test_pred)\n",
    "    \n",
    "    print('{} 训练集： accuracy:{:.3},precision:{:.3}, recall:{:.3}, f1:{:.3}, auc:{:.3}'.format(name,train_accuracy,train_precision,train_recall,train_f1,train_auc))\n",
    "    print('{} 测试集： accuracy:{:.3},precision:{:.3}, recall:{:.3}, f1:{:.3}, auc:{:.3}'.format(name,test_accuracy,test_precision,test_recall,test_f1,test_auc))\n",
    "    print('\\n')\n",
    "    df = pd.DataFrame(np.array([train_accuracy,train_precision,train_recall,train_f1,train_auc,test_accuracy,test_precision,test_recall,test_f1,test_auc]).reshape(2,-1),\n",
    "                  index = ['train','test'],\n",
    "                  columns = ['Accuracy','Precision','Recall','F1-Score','AUC-Score'])\n",
    "    df_list.append(df)\n",
    "pd.concat(df_list,axis=0,keys=names)"
   ]
  },
  {
   "cell_type": "code",
   "execution_count": 25,
   "metadata": {},
   "outputs": [],
   "source": [
    "import matplotlib.pyplot as plt\n",
    "def draw_roc_curve(train_pre_proba,test_pre_proba,train_auc,test_auc,model_name,num):\n",
    "    fpr,tpr,roc_auc = train_pre_proba\n",
    "    test_fpr,test_tpr,test_roc_auc = test_pre_proba\n",
    "    \n",
    "    plt.figure()\n",
    "    lw = 2\n",
    "    plt.plot(fpr, tpr, color='darkorange',\n",
    "             lw=lw, label='ROC curve (area = %0.2f)' % train_auc)\n",
    "    plt.plot(test_fpr, test_tpr, color='red',\n",
    "         lw=lw, label='ROC curve (area = %0.2f)' %test_auc)\n",
    "    plt.plot([0, 1], [0, 1], color='navy', lw=lw, linestyle='--')\n",
    "    plt.xlabel('False Positive Rate')\n",
    "    plt.ylabel('True Positive Rate')\n",
    "    plt.title('Roc example '+ model_name)\n",
    "    plt.legend(loc=\"lower right\")\n",
    "#     plt.savefig(\"img/five model_{}.png\".format(num))\n",
    "    plt.close()\n",
    "    \n",
    "for num,name,model in zip(range(1,7),names,models):\n",
    "    \n",
    "    y_train_pred = model.predict_proba(train_X)[:,1]\n",
    "    y_test_pred = model.predict_proba(test_X)[:,1]\n",
    "\n",
    "\n",
    "    train_roc = roc_curve(train_y,y_train_pred)\n",
    "    test_roc = roc_curve(test_y,y_test_pred)\n",
    "\n",
    "    train_auc = roc_auc_score(train_y,y_train_pred)\n",
    "    test_auc = roc_auc_score(test_y,y_test_pred)\n",
    "\n",
    "    draw_roc_curve(train_roc,test_roc,train_auc,test_auc,name,num)"
   ]
  },
  {
   "cell_type": "markdown",
   "metadata": {},
   "source": [
    "### 使用k折交叉验证法建立模型，然后然后比较结果"
   ]
  },
  {
   "cell_type": "code",
   "execution_count": 26,
   "metadata": {},
   "outputs": [],
   "source": [
    "from sklearn.model_selection import KFold\n",
    "\n",
    "def run_cv(X,y,clf_class,**kwargs):\n",
    "    kf = KFold(n_splits = 5, shuffle = False, random_state = 2018)\n",
    "    y_pred = y.copy()\n",
    "    clf = clf_class(**kwargs)\n",
    "    \n",
    "    for train_index , test_index in kf.split(X):\n",
    "        X_train, X_test = X[train_index], X[test_index]\n",
    "        y_train, y_test = y[train_index], y[test_index]\n",
    "        \n",
    "        clf.fit(X_train,y_train)\n",
    "        y_pred[test_index] = clf.predict(X_test)\n",
    "    return y_pred"
   ]
  },
  {
   "cell_type": "code",
   "execution_count": 27,
   "metadata": {},
   "outputs": [],
   "source": [
    "# 测试几种方式\n",
    "LR_CV_result = run_cv(train_X,train_y,LogisticRegression)\n",
    "RF_CV_result = run_cv(train_X,train_y,RandomForestClassifier)\n",
    "KNN_CV_result = run_cv(train_X,train_y,KNeighborsClassifier)"
   ]
  },
  {
   "cell_type": "code",
   "execution_count": 31,
   "metadata": {},
   "outputs": [
    {
     "name": "stdout",
     "output_type": "stream",
     "text": [
      "Logistic Regression (L2 is default): 0.7958656330749354\n",
      "Random forest: 0.7677648578811369\n",
      "K-nearest-neighbors: 0.7458010335917312\n"
     ]
    }
   ],
   "source": [
    "def accuracy(y_true,y_pred):\n",
    "    return np.mean(y_true == y_pred)\n",
    "\n",
    "print (\"Logistic Regression (L2 is default): \" + str(accuracy(train_y, LR_CV_result)))\n",
    "print (\"Random forest: \" + str(accuracy(train_y, RF_CV_result)))\n",
    "print (\"K-nearest-neighbors: \" + str(accuracy(train_y, KNN_CV_result)))"
   ]
  },
  {
   "cell_type": "code",
   "execution_count": null,
   "metadata": {},
   "outputs": [],
   "source": []
  }
 ],
 "metadata": {
  "kernelspec": {
   "display_name": "Python 3",
   "language": "python",
   "name": "python3"
  },
  "language_info": {
   "codemirror_mode": {
    "name": "ipython",
    "version": 3
   },
   "file_extension": ".py",
   "mimetype": "text/x-python",
   "name": "python",
   "nbconvert_exporter": "python",
   "pygments_lexer": "ipython3",
   "version": "3.7.4"
  }
 },
 "nbformat": 4,
 "nbformat_minor": 1
}
