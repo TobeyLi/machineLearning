{
 "cells": [
  {
   "cell_type": "markdown",
   "metadata": {
    "collapsed": true
   },
   "source": [
    "中文数据集THUCTC初识\n",
    "---"
   ]
  },
  {
   "cell_type": "code",
   "execution_count": 1,
   "metadata": {},
   "outputs": [],
   "source": [
    "import tensorflow as tf\n",
    "from tensorflow import keras\n",
    "import numpy as np\n",
    "from collections import Counter"
   ]
  },
  {
   "cell_type": "code",
   "execution_count": 20,
   "metadata": {},
   "outputs": [],
   "source": [
    "# 读取文件\n",
    "lines=open(\"../data/cnews/cnews.train.txt\",'r',encoding='utf-8')\n",
    "text,labels=list(),list()\n",
    "\n",
    "# 读取每一行的文件,并且将内容和label分开,将相关的内容存到标签中去\n",
    "for line in lines:\n",
    "    line=line.split('\\t')\n",
    "    labels.append(line[0])\n",
    "    text.append(line[1])"
   ]
  },
  {
   "cell_type": "code",
   "execution_count": 22,
   "metadata": {},
   "outputs": [
    {
     "data": {
      "text/plain": [
       "50000"
      ]
     },
     "execution_count": 22,
     "metadata": {},
     "output_type": "execute_result"
    }
   ],
   "source": [
    "# 查看整个训练集的长度\n",
    "len(text)"
   ]
  },
  {
   "cell_type": "code",
   "execution_count": 25,
   "metadata": {},
   "outputs": [
    {
     "data": {
      "text/plain": [
       "['体育', '娱乐', '家居', '房产', '教育', '时尚', '时政', '游戏', '科技', '财经']"
      ]
     },
     "execution_count": 25,
     "metadata": {},
     "output_type": "execute_result"
    }
   ],
   "source": [
    "# 查看有多少个不同的labels,并且返回不同类别的名称\n",
    "def identify_label(labels):\n",
    "    res=list()\n",
    "    for label in labels:\n",
    "        if label not in res:\n",
    "            res.append(label)\n",
    "    return res\n",
    "# 查看类别\n",
    "identify_label(labels)"
   ]
  },
  {
   "cell_type": "markdown",
   "metadata": {},
   "source": [
    "数据初识小结\n",
    "---\n",
    "在这份数据集中，train_set总共存在50000条数据，并且总共分为10个类别，考虑到这些都是不同的句子，那么这些句子的长度都不同，\n",
    "后续在进行处理（导入模型的时候，要考虑到padding的过程）"
   ]
  },
  {
   "cell_type": "code",
   "execution_count": null,
   "metadata": {},
   "outputs": [],
   "source": []
  }
 ],
 "metadata": {
  "kernelspec": {
   "display_name": "Python 3",
   "language": "python",
   "name": "python3"
  },
  "language_info": {
   "codemirror_mode": {
    "name": "ipython",
    "version": 3
   },
   "file_extension": ".py",
   "mimetype": "text/x-python",
   "name": "python",
   "nbconvert_exporter": "python",
   "pygments_lexer": "ipython3",
   "version": "3.6.7"
  }
 },
 "nbformat": 4,
 "nbformat_minor": 1
}
