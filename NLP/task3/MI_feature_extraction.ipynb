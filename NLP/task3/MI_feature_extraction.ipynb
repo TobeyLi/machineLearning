{
 "cells": [
  {
   "cell_type": "markdown",
   "metadata": {
    "collapsed": true
   },
   "source": [
    "采用互信息来作为特征筛选\n",
    "---\n",
    "本文主要是采用特征选择里面的包装法来进行特征筛选，通过对cnews中文文本进行处理，可以达到特征筛选的目的"
   ]
  },
  {
   "cell_type": "code",
   "execution_count": 4,
   "metadata": {},
   "outputs": [],
   "source": [
    "import jieba\n",
    "import os"
   ]
  },
  {
   "cell_type": "code",
   "execution_count": 5,
   "metadata": {},
   "outputs": [],
   "source": [
    "# 确定文件的路径\n",
    "file_path=\"../data/cnews/cnews.test.txt\""
   ]
  },
  {
   "cell_type": "markdown",
   "metadata": {},
   "source": [
    "**步骤1**：读取文件，将label和text分开"
   ]
  },
  {
   "cell_type": "code",
   "execution_count": 6,
   "metadata": {},
   "outputs": [
    {
     "data": {
      "text/plain": [
       "['体育', '体育', '体育']"
      ]
     },
     "execution_count": 6,
     "metadata": {},
     "output_type": "execute_result"
    }
   ],
   "source": [
    "labels,messages=list(),list()\n",
    "with open(file_path,'r',encoding='utf-8') as fp:\n",
    "    texts=fp.readlines()\n",
    "    for text in texts:\n",
    "        text=text.split('\\t')\n",
    "        labels.append(text[0])\n",
    "        messages.append(text[1])\n",
    "labels[:3]"
   ]
  },
  {
   "cell_type": "markdown",
   "metadata": {},
   "source": [
    "**步骤二**：分词，去除停用词"
   ]
  },
  {
   "cell_type": "code",
   "execution_count": 13,
   "metadata": {},
   "outputs": [
    {
     "data": {
      "text/plain": [
       "[',', '?', '、', '。', '“']"
      ]
     },
     "execution_count": 13,
     "metadata": {},
     "output_type": "execute_result"
    }
   ],
   "source": [
    "with open('../data/stop_words_uft8.txt','r',encoding='utf-8') as fp:\n",
    "    stpwords=fp.readlines()\n",
    "stopwords=list()\n",
    "for word in stpwords:\n",
    "    stopwords.append(word.strip())\n",
    "stopwords[:5]"
   ]
  },
  {
   "cell_type": "code",
   "execution_count": 14,
   "metadata": {},
   "outputs": [
    {
     "data": {
      "text/plain": [
       "10000"
      ]
     },
     "execution_count": 14,
     "metadata": {},
     "output_type": "execute_result"
    }
   ],
   "source": [
    "# 去除停用词\n",
    "test_x = [[each0 for each0 in jieba.cut(each) if each0 not in stopwords] for each in messages]\n",
    "len(test_x)"
   ]
  },
  {
   "cell_type": "code",
   "execution_count": 15,
   "metadata": {},
   "outputs": [
    {
     "data": {
      "text/plain": [
       "'去年 痛 绿衫 军竟 忘记   真当 95 火箭 新浪 体育讯 今天 波士顿 凯尔特人 驾临 华府 所有人 翻开 绿衫 军 首发 名单 时 傻眼 巨头 及拉简 隆多均 高挂 免战牌 凯尔特人 为此 付出 代价 苦战 一个 加时 仍以 94 95 负于 华盛顿 奇才 彻底 无缘 东部 第二 昨天 凯尔特人 惨败 本赛季 曾 三次 战胜 热火 对手 反超 一个身 位 热火 未来 对手 分别 亚特兰大 老鹰 多伦多 猛龙 凯尔特人 今天 奇才 战罢 收官战 还要 面对 本赛季 曾 三次 战胜 纽约 尼克斯 热火 交战 成绩 占优 争 第二 本来 毫无希望 君不见 今天 热火 对决 老鹰 巨头 齐齐 亮相 轻视 奇才 未必 本赛季 前 一次 做客 华府 绿衫 军全 主力 出战 依然 大热 倒灶 怎会 天真 以为 此番 副 选 阵容 必胜 绿衫 军 状态 糟糕 足够 底气 资格 轻视 对手 对此 波士顿 环球 报 无奈 OK 所有 想 巨头 球迷 洗洗 睡 道 格 里 弗斯 已 决定 老将 休息 今天 华府 进行 一场 奇怪 比赛 以全 主力 出战 未必 抢 回 第二 人 留下 口实 人 质疑 绿衫 军 18 座 冠军 抱持 何种 心态 1989 年 以来 赛区 第三 低 排名 夺冠 1994 95 赛季 休斯敦 火箭 2001 02 赛季 洛杉矶 湖人 2003 04 赛季 底特律 活塞 2006 07 赛季 马刺 几次 特殊 情况 火箭 当年 开局 不利 赛季 中期 交易 克莱德 德雷克斯勒 牺牲 战绩 促 磨合 季后赛 时 火箭 实力 已远超 排名 西部 第六 总决赛 对手 新兵 蛋子 奥兰多 魔术 2002 年 湖人 位居 西部 第三 马刺 战绩 相同 马刺 赛区 头名 成为 名义 第二 西部 半决赛 湖人 一个 主场 同理 2004 年 新泽西 篮网 能排 第二 赛区 头名 活塞 手握 实际上 主场优势 2007 年 西部 第三 马刺 夺冠 拜 最强 对手 达拉斯 小牛 首轮 遭遇 黑 八所 赐 骑士 总决赛 菜鸟 也就是说 多年 真正 至少 三连客 晋级 方式 夺冠 球队 队中 95 年 火箭 一支 凯尔特人 上赛季 险些 再次 书写 传奇 东部 第四 身份 出战 先后 第二 第三轮 淘汰 排名 高于 骑士 魔术 总决赛 对手 洛杉矶 湖人 1995 年 魔术 2007 年 骑士 可比 凯尔特人 手握 赛点 情况 下 对手 扳 两局 虽里 弗斯 嘴硬 首发 五人 湖人 无 取胜 希望 实际 少 一个 主场 缘故 赛前 里 弗斯 已 表态 收官战 轮换 依旧 表明 绿衫 军已 颓然 丧志 问题 志在 夺冠 凯尔特人 考虑 总决赛 对阵 输球 之前 湖人 战绩 持平 正是 一搏 总决赛 一道 绝好 时机 奈何 绿衫 军 短视 眼中 热火 自觉 争 第二 太难 偃旗息鼓 去年 总决赛 吃亏 主场优势 痛 忘 湖人尚 跌入 第三 蹙眉 奈何 已 跌入 第三 绿衫 军竟 悠哉 魑魅 \\n'"
      ]
     },
     "execution_count": 15,
     "metadata": {},
     "output_type": "execute_result"
    }
   ],
   "source": [
    "# test_x有10000个样本，取500:1500之间的1000个样本为例子,同时取出label\n",
    "test_x1 = test_x[500:1500]\n",
    "\n",
    "\n",
    "# 因为test_x1存放的是单个词语构成的list，现在将其按照' '将其为字符串形式\n",
    "test_x1 = [' '.join(each) for each in test_x1] \n",
    "test_x1[1]"
   ]
  },
  {
   "cell_type": "markdown",
   "metadata": {},
   "source": [
    "步骤3：文本向量化"
   ]
  },
  {
   "cell_type": "code",
   "execution_count": 16,
   "metadata": {},
   "outputs": [],
   "source": [
    "# 将文本向量化\n",
    "from sklearn.feature_extraction.text import TfidfVectorizer\n",
    "# 初始化后直接feed给模型\n",
    "transformer=TfidfVectorizer(ngram_range=(1,2),min_df=0.2, max_df=0.9,use_idf=1,smooth_idf=1, sublinear_tf=1)\n",
    "tf_idf=transformer.fit_transform(test_x1)\n",
    "tf_idf_matrix=tf_idf.toarray()"
   ]
  },
  {
   "cell_type": "code",
   "execution_count": 18,
   "metadata": {},
   "outputs": [
    {
     "data": {
      "text/plain": [
       "{'体育': 0, '娱乐': 1}"
      ]
     },
     "execution_count": 18,
     "metadata": {},
     "output_type": "execute_result"
    }
   ],
   "source": [
    "# 取出相应的label,将其离散化\n",
    "labels_x1=labels[500:1500]\n",
    "char2num=dict(zip(list(set(labels_x1)),range(len(set(labels_x1)))))\n",
    "char2num"
   ]
  },
  {
   "cell_type": "code",
   "execution_count": 21,
   "metadata": {},
   "outputs": [],
   "source": [
    "X_labelnum = []\n",
    "for each in labels_x1:\n",
    "    X_labelnum.append(char2num[each])\n"
   ]
  },
  {
   "cell_type": "code",
   "execution_count": 23,
   "metadata": {},
   "outputs": [
    {
     "data": {
      "text/plain": [
       "(1000, 62)"
      ]
     },
     "execution_count": 23,
     "metadata": {},
     "output_type": "execute_result"
    }
   ],
   "source": [
    "tf_idf_matrix.shape()"
   ]
  },
  {
   "cell_type": "markdown",
   "metadata": {},
   "source": [
    "步骤4：计算样本与特征之间的互信息"
   ]
  },
  {
   "cell_type": "code",
   "execution_count": 30,
   "metadata": {},
   "outputs": [],
   "source": [
    "# 现计算样本label与样本特征之间一一的互信息\n",
    "tf_idf_matrix_T = tf_idf_matrix.T\n",
    "X_MI = {} # 用于存储tf_idf_matrix_T特征与label之间的互信息值\n",
    "from sklearn import metrics as mr\n",
    "import numpy as np\n",
    "X_labels = np.array(X_labelnum)\n",
    "for i in range(tf_idf_matrix_T.shape[0]):\n",
    "    X_MI[i] = mr.mutual_info_score(X_labels,tf_idf_matrix_T[i])"
   ]
  },
  {
   "cell_type": "code",
   "execution_count": 31,
   "metadata": {},
   "outputs": [
    {
     "data": {
      "text/plain": [
       "{0: 0.24619826572194375,\n",
       " 1: 0.14522977235188136,\n",
       " 2: 0.14734647651463229,\n",
       " 3: 0.16740174049361115,\n",
       " 4: 0.4034030622503526,\n",
       " 5: 0.1536535282057453,\n",
       " 6: 0.19570520200756553,\n",
       " 7: 0.20990843232597797,\n",
       " 8: 0.19455075708137606,\n",
       " 9: 0.16633030232276236,\n",
       " 10: 0.19369112636560065,\n",
       " 11: 0.16739700871710742,\n",
       " 12: 0.2551920933429799,\n",
       " 13: 0.20259951921572728,\n",
       " 14: 0.5428524740217371,\n",
       " 15: 0.2731074874796676,\n",
       " 16: 0.3488441926564956,\n",
       " 17: 0.2897688674350848,\n",
       " 18: 0.31808366843365193,\n",
       " 19: 0.1422161015337544,\n",
       " 20: 0.29356515320090654,\n",
       " 21: 0.16263006881211767,\n",
       " 22: 0.3794654626012728,\n",
       " 23: 0.31943327605555716,\n",
       " 24: 0.20706098165646547,\n",
       " 25: 0.27186005501996524,\n",
       " 26: 0.2002218140627043,\n",
       " 27: 0.452993759900236,\n",
       " 28: 0.21251810559691148,\n",
       " 29: 0.19204408298638884,\n",
       " 30: 0.5851166818798166,\n",
       " 31: 0.5428524740217371,\n",
       " 32: 0.30016036017557496,\n",
       " 33: 0.43714680147354773,\n",
       " 34: 0.25922700287577616,\n",
       " 35: 0.15959821836588517,\n",
       " 36: 0.1836438452099457,\n",
       " 37: 0.14294953917544295,\n",
       " 38: 0.43928617857707036,\n",
       " 39: 0.15283062967068475,\n",
       " 40: 0.1698194131383874,\n",
       " 41: 0.20388725899856874,\n",
       " 42: 0.2511756223994213,\n",
       " 43: 0.29619120665417087,\n",
       " 44: 0.4917247608187932,\n",
       " 45: 0.15763956731021422,\n",
       " 46: 0.17131957696897204,\n",
       " 47: 0.21030153310342578,\n",
       " 48: 0.17932399572937224,\n",
       " 49: 0.22561620724647047,\n",
       " 50: 0.3246135644510242,\n",
       " 51: 0.21063663539398503,\n",
       " 52: 0.17405504539198074,\n",
       " 53: 0.18325480335078095,\n",
       " 54: 0.17064418736179332,\n",
       " 55: 0.17008334106832496,\n",
       " 56: 0.18087980084327804,\n",
       " 57: 0.16778248299242965,\n",
       " 58: 0.15136186772671878,\n",
       " 59: 0.17262253922907606,\n",
       " 60: 0.18394306130519347,\n",
       " 61: 0.15650082296309042}"
      ]
     },
     "execution_count": 31,
     "metadata": {},
     "output_type": "execute_result"
    }
   ],
   "source": [
    "X_MI"
   ]
  },
  {
   "cell_type": "markdown",
   "metadata": {},
   "source": [
    "步骤5：特征筛选，选择出互信息最大的20个特征"
   ]
  },
  {
   "cell_type": "code",
   "execution_count": 32,
   "metadata": {},
   "outputs": [
    {
     "name": "stdout",
     "output_type": "stream",
     "text": [
      "选择的特征对应列序号： [0, 3, 4, 6, 7, 8, 9, 10, 11, 12, 13, 14, 15, 16, 17, 18, 20, 21, 22, 23, 24, 25, 26, 27, 28, 29, 30, 31, 32, 33, 34, 36, 38, 40, 41, 42, 43, 44, 46, 47, 48, 49, 50, 51, 52, 53, 54, 55, 56, 57, 59, 60]\n"
     ]
    }
   ],
   "source": [
    "# 筛选特征，根据互信息的大小进行从大到小排序，留下前20的特征\n",
    "X_MIF = [each for each in X_MI if X_MI[each]>=sorted(X_MI.values())[10]]\n",
    "print('选择的特征对应列序号：',X_MIF)\n",
    "X_fea = [tf_idf_matrix[each] for each in X_MIF]\n",
    "X_matrix_fea = np.array(X_fea).T"
   ]
  }
 ],
 "metadata": {
  "kernelspec": {
   "display_name": "Python 3",
   "language": "python",
   "name": "python3"
  },
  "language_info": {
   "codemirror_mode": {
    "name": "ipython",
    "version": 3
   },
   "file_extension": ".py",
   "mimetype": "text/x-python",
   "name": "python",
   "nbconvert_exporter": "python",
   "pygments_lexer": "ipython3",
   "version": "3.6.7"
  }
 },
 "nbformat": 4,
 "nbformat_minor": 1
}
